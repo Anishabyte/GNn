{
  "cells": [
    {
      "cell_type": "code",
      "execution_count": null,
      "metadata": {
        "colab": {
          "base_uri": "https://localhost:8080/"
        },
        "id": "93f1ZLOBGKWA",
        "outputId": "6e73e467-5e3f-4b4f-ca30-f76411ca5b72"
      },
      "outputs": [
        {
          "output_type": "stream",
          "name": "stdout",
          "text": [
            "fatal: destination path 'GNN_Ranking' already exists and is not an empty directory.\n"
          ]
        }
      ],
      "source": [
        "!git clone \"https://github.com/sunilkmaurya/GNN_Ranking\""
      ]
    },
    {
      "cell_type": "code",
      "execution_count": null,
      "metadata": {
        "colab": {
          "base_uri": "https://localhost:8080/"
        },
        "id": "kYxFI5kWGwQ0",
        "outputId": "88847e75-42c3-4144-e699-6bd11afb26fb"
      },
      "outputs": [
        {
          "output_type": "stream",
          "name": "stdout",
          "text": [
            "Collecting networkit\n",
            "  Downloading networkit-11.0-cp310-cp310-manylinux_2_17_x86_64.manylinux2014_x86_64.whl (13.7 MB)\n",
            "\u001b[2K     \u001b[90m━━━━━━━━━━━━━━━━━━━━━━━━━━━━━━━━━━━━━━━━\u001b[0m \u001b[32m13.7/13.7 MB\u001b[0m \u001b[31m43.3 MB/s\u001b[0m eta \u001b[36m0:00:00\u001b[0m\n",
            "\u001b[?25hRequirement already satisfied: scipy in /usr/local/lib/python3.10/dist-packages (from networkit) (1.11.4)\n",
            "Requirement already satisfied: numpy in /usr/local/lib/python3.10/dist-packages (from networkit) (1.25.2)\n",
            "Installing collected packages: networkit\n",
            "Successfully installed networkit-11.0\n"
          ]
        }
      ],
      "source": [
        "!pip install networkit"
      ]
    },
    {
      "cell_type": "markdown",
      "metadata": {
        "id": "IJSnGfD3WnGz"
      },
      "source": [
        "## Dataset 5000 - 10000 nodes"
      ]
    },
    {
      "cell_type": "code",
      "execution_count": null,
      "metadata": {
        "colab": {
          "base_uri": "https://localhost:8080/"
        },
        "id": "y1GMGFR5Fo2f",
        "outputId": "135ecbd8-1b51-4ac3-a0b5-a8b02c83881d"
      },
      "outputs": [
        {
          "output_type": "stream",
          "name": "stdout",
          "text": [
            "/content/GNN_Ranking\n",
            "SF\n",
            "Scale-free graphs selected.\n",
            "Loading data...\n",
            "Graphs to adjacency conversion.\n",
            "/content/GNN_Ranking/utils.py:87: UserWarning: torch.sparse.SparseTensor(indices, values, shape, *, device=) is deprecated.  Please use torch.sparse_coo_tensor(indices, values, shape, dtype=, device=). (Triggered internally at ../torch/csrc/utils/tensor_new.cpp:621.)\n",
            "  return torch.sparse.FloatTensor(indices, values, shape)\n",
            "\n",
            "Processing graphs: 10/10\n",
            "Training\n",
            "Number of epoches: 15\n",
            "Epoch number: 1/15\n",
            "    Average KT score on test graphs is: 0.7677210283267498 and std: 0.016126207982349094\n",
            "Epoch number: 2/15\n",
            "    Average KT score on test graphs is: 0.7920405331234687 and std: 0.01916592868067369\n",
            "Epoch number: 3/15\n",
            "    Average KT score on test graphs is: 0.8097548091271116 and std: 0.01682299017284358\n",
            "Epoch number: 4/15\n",
            "    Average KT score on test graphs is: 0.8197169974573144 and std: 0.018074246945617854\n",
            "Epoch number: 5/15\n",
            "    Average KT score on test graphs is: 0.8263264584746931 and std: 0.01854285619102057\n",
            "Epoch number: 6/15\n",
            "    Average KT score on test graphs is: 0.8312590402734881 and std: 0.01661275655647965\n",
            "Epoch number: 7/15\n",
            "    Average KT score on test graphs is: 0.8347856019114479 and std: 0.017626723124951324\n",
            "Epoch number: 8/15\n",
            "    Average KT score on test graphs is: 0.8315383790047777 and std: 0.018867426797627863\n",
            "Epoch number: 9/15\n",
            "    Average KT score on test graphs is: 0.8331370708764503 and std: 0.023062847838764382\n",
            "Epoch number: 10/15\n",
            "    Average KT score on test graphs is: 0.8387912799263846 and std: 0.021121391628910774\n",
            "Epoch number: 11/15\n",
            "    Average KT score on test graphs is: 0.8395349342097773 and std: 0.021338038403448598\n",
            "Epoch number: 12/15\n",
            "    Average KT score on test graphs is: 0.8371570580266811 and std: 0.02183096300916423\n",
            "Epoch number: 13/15\n",
            "    Average KT score on test graphs is: 0.8405533626618797 and std: 0.022790766512277967\n",
            "Epoch number: 14/15\n",
            "    Average KT score on test graphs is: 0.8397731659202492 and std: 0.024191198483368183\n",
            "Epoch number: 15/15\n",
            "    Average KT score on test graphs is: 0.8408299795767654 and std: 0.018377244892135748\n"
          ]
        }
      ],
      "source": [
        "%cd \"/content/GNN_Ranking\"\n",
        "!python closeness.py --g SF"
      ]
    },
    {
      "cell_type": "code",
      "execution_count": null,
      "metadata": {
        "colab": {
          "base_uri": "https://localhost:8080/"
        },
        "id": "yLZ7OQI5FxF6",
        "outputId": "034269dc-a023-4418-c1e7-293c7a44e738"
      },
      "outputs": [
        {
          "output_type": "stream",
          "name": "stdout",
          "text": [
            "python3: can't open file '/content/betweenness.py': [Errno 2] No such file or directory\n"
          ]
        }
      ],
      "source": [
        "!python betweenness.py --g ER"
      ]
    },
    {
      "cell_type": "code",
      "execution_count": null,
      "metadata": {
        "colab": {
          "base_uri": "https://localhost:8080/"
        },
        "id": "tLbHdGg7Ajp_",
        "outputId": "8cb48bdc-0c3e-4f52-acb1-649e52123a66"
      },
      "outputs": [
        {
          "name": "stdout",
          "output_type": "stream",
          "text": [
            "GRP\n",
            "Gaussian Random Partition graphs selected.\n",
            "Loading data...\n",
            "Graphs to adjacency conversion.\n",
            "/content/GNN_Ranking/utils.py:87: UserWarning: torch.sparse.SparseTensor(indices, values, shape, *, device=) is deprecated.  Please use torch.sparse_coo_tensor(indices, values, shape, dtype=, device=). (Triggered internally at ../torch/csrc/utils/tensor_new.cpp:621.)\n",
            "  return torch.sparse.FloatTensor(indices, values, shape)\n",
            "\n",
            "\n",
            "Training\n",
            "Total Number of epoches: 15\n",
            "Epoch number: 1/15\n",
            "   Average KT score on test graphs is: 0.7436659779473087 and std: 0.10255863986048686\n",
            "Epoch number: 2/15\n",
            "   Average KT score on test graphs is: 0.7712436622776034 and std: 0.09833225174204997\n",
            "Epoch number: 3/15\n",
            "   Average KT score on test graphs is: 0.7916727645269326 and std: 0.11263172078971236\n",
            "Epoch number: 4/15\n",
            "   Average KT score on test graphs is: 0.7941054142359597 and std: 0.10198490117040375\n",
            "Epoch number: 5/15\n",
            "   Average KT score on test graphs is: 0.8041650327368558 and std: 0.10807457548517851\n",
            "Epoch number: 6/15\n",
            "   Average KT score on test graphs is: 0.8111436475825489 and std: 0.10781926830656892\n",
            "Epoch number: 7/15\n",
            "   Average KT score on test graphs is: 0.8168553423565393 and std: 0.11009863905761437\n",
            "Epoch number: 8/15\n",
            "   Average KT score on test graphs is: 0.8192841533348348 and std: 0.10965831425260156\n",
            "Epoch number: 9/15\n",
            "   Average KT score on test graphs is: 0.8237126684198082 and std: 0.10931312932624893\n",
            "Epoch number: 10/15\n",
            "   Average KT score on test graphs is: 0.8262467342311535 and std: 0.10910608885518748\n",
            "Epoch number: 11/15\n",
            "   Average KT score on test graphs is: 0.8242509502043204 and std: 0.10690149564880477\n",
            "Epoch number: 12/15\n",
            "   Average KT score on test graphs is: 0.8279581604970442 and std: 0.10702226074780855\n",
            "Epoch number: 13/15\n",
            "   Average KT score on test graphs is: 0.8281273740811337 and std: 0.10589436615430872\n",
            "Epoch number: 14/15\n",
            "   Average KT score on test graphs is: 0.831648263840141 and std: 0.10647470317389703\n",
            "Epoch number: 15/15\n",
            "   Average KT score on test graphs is: 0.8320676172915039 and std: 0.10576383612200026\n"
          ]
        }
      ],
      "source": [
        "!python betweenness.py --g GRP"
      ]
    },
    {
      "cell_type": "code",
      "execution_count": null,
      "metadata": {
        "colab": {
          "base_uri": "https://localhost:8080/"
        },
        "id": "denEqGsBHAx5",
        "outputId": "672db590-8f2d-4594-acc9-658268567061"
      },
      "outputs": [
        {
          "output_type": "stream",
          "name": "stdout",
          "text": [
            "python3: can't open file '/content/closeness.py': [Errno 2] No such file or directory\n"
          ]
        }
      ],
      "source": [
        "!python closeness.py --g GRP"
      ]
    },
    {
      "cell_type": "code",
      "execution_count": null,
      "metadata": {
        "colab": {
          "base_uri": "https://localhost:8080/"
        },
        "id": "6apcINOo9CuL",
        "outputId": "3f50607c-94ae-4df6-dee2-814bf99a3d2b"
      },
      "outputs": [
        {
          "output_type": "stream",
          "name": "stdout",
          "text": [
            "ER\n",
            "Erdos-Renyi random graphs selected.\n",
            "Loading data...\n",
            "Graphs to adjacency conversion.\n",
            "/content/GNN_Ranking/utils.py:87: UserWarning: torch.sparse.SparseTensor(indices, values, shape, *, device=) is deprecated.  Please use torch.sparse_coo_tensor(indices, values, shape, dtype=, device=). (Triggered internally at ../torch/csrc/utils/tensor_new.cpp:621.)\n",
            "  return torch.sparse.FloatTensor(indices, values, shape)\n",
            "\n",
            "\n",
            "Training\n",
            "Number of epoches: 15\n",
            "Epoch number: 1/15\n",
            "    Average KT score on test graphs is: 0.7803313134056796 and std: 0.05530960534690091\n",
            "Epoch number: 2/15\n",
            "    Average KT score on test graphs is: 0.8206070719869064 and std: 0.04116151584923357\n",
            "Epoch number: 3/15\n",
            "    Average KT score on test graphs is: 0.8205950967537807 and std: 0.03291592467231966\n",
            "Epoch number: 4/15\n",
            "    Average KT score on test graphs is: 0.8313490167195472 and std: 0.03165687442898026\n",
            "Epoch number: 5/15\n",
            "    Average KT score on test graphs is: 0.8444209955735256 and std: 0.030615810789124696\n",
            "Epoch number: 6/15\n",
            "    Average KT score on test graphs is: 0.8636992587963641 and std: 0.03621950873944336\n",
            "Epoch number: 7/15\n",
            "    Average KT score on test graphs is: 0.8658198295396939 and std: 0.03492102627003972\n",
            "Epoch number: 8/15\n",
            "    Average KT score on test graphs is: 0.8489513358499539 and std: 0.02292706700792961\n",
            "Epoch number: 9/15\n",
            "    Average KT score on test graphs is: 0.8842737563841239 and std: 0.03950790674484538\n",
            "Epoch number: 10/15\n",
            "    Average KT score on test graphs is: 0.8545794688092719 and std: 0.02457978020259002\n",
            "Epoch number: 11/15\n",
            "    Average KT score on test graphs is: 0.8542842225258042 and std: 0.025649698813032962\n",
            "Epoch number: 12/15\n",
            "    Average KT score on test graphs is: 0.8688459652196373 and std: 0.026485790171739205\n",
            "Epoch number: 13/15\n",
            "    Average KT score on test graphs is: 0.890976679892353 and std: 0.0354723668607809\n",
            "Epoch number: 14/15\n",
            "    Average KT score on test graphs is: 0.8859504872367256 and std: 0.033922830246399714\n",
            "Epoch number: 15/15\n",
            "    Average KT score on test graphs is: 0.8911535201167107 and std: 0.03751515882646412\n"
          ]
        }
      ],
      "source": [
        "!python closeness.py --g ER"
      ]
    },
    {
      "cell_type": "code",
      "execution_count": null,
      "metadata": {
        "colab": {
          "base_uri": "https://localhost:8080/"
        },
        "id": "uQms1XTE9JSD",
        "outputId": "5d4557c4-0530-4459-f012-5239c1847602"
      },
      "outputs": [
        {
          "output_type": "stream",
          "name": "stdout",
          "text": [
            "GRP\n",
            "Gaussian Random Partition graphs selected.\n",
            "Loading data...\n",
            "Graphs to adjacency conversion.\n",
            "/content/GNN_Ranking/utils.py:87: UserWarning: torch.sparse.SparseTensor(indices, values, shape, *, device=) is deprecated.  Please use torch.sparse_coo_tensor(indices, values, shape, dtype=, device=). (Triggered internally at ../torch/csrc/utils/tensor_new.cpp:621.)\n",
            "  return torch.sparse.FloatTensor(indices, values, shape)\n",
            "\n",
            "\n",
            "Training\n",
            "Number of epoches: 15\n",
            "Epoch number: 1/15\n",
            "    Average KT score on test graphs is: 0.7820628018373622 and std: 0.06893626810849189\n",
            "Epoch number: 2/15\n",
            "    Average KT score on test graphs is: 0.798814693898455 and std: 0.06345022201181527\n",
            "Epoch number: 3/15\n",
            "    Average KT score on test graphs is: 0.833340365555445 and std: 0.06296236204934713\n",
            "Epoch number: 4/15\n",
            "    Average KT score on test graphs is: 0.8424138692600536 and std: 0.04800016964394378\n",
            "Epoch number: 5/15\n",
            "    Average KT score on test graphs is: 0.8610033316707975 and std: 0.04419161951641734\n",
            "Epoch number: 6/15\n",
            "    Average KT score on test graphs is: 0.8704036148361979 and std: 0.05122159861914604\n",
            "Epoch number: 7/15\n",
            "    Average KT score on test graphs is: 0.878634574998921 and std: 0.057929750520018315\n",
            "Epoch number: 8/15\n",
            "    Average KT score on test graphs is: 0.8730016636588422 and std: 0.0501922333755624\n",
            "Epoch number: 9/15\n",
            "    Average KT score on test graphs is: 0.8725050166707659 and std: 0.05238272216013473\n",
            "Epoch number: 10/15\n",
            "    Average KT score on test graphs is: 0.8833920605622423 and std: 0.05089325467839504\n",
            "Epoch number: 11/15\n",
            "    Average KT score on test graphs is: 0.8925589648315174 and std: 0.05405132324121034\n",
            "Epoch number: 12/15\n",
            "    Average KT score on test graphs is: 0.8942848219985062 and std: 0.052913872058939264\n",
            "Epoch number: 13/15\n",
            "    Average KT score on test graphs is: 0.900325287951557 and std: 0.05553303414015884\n",
            "Epoch number: 14/15\n",
            "    Average KT score on test graphs is: 0.8990537780313745 and std: 0.051594494925642415\n",
            "Epoch number: 15/15\n",
            "    Average KT score on test graphs is: 0.8943591141846244 and std: 0.049040582484390374\n"
          ]
        }
      ],
      "source": [
        "# we are getting 91 as accuracy without changing anything\n",
        "# after changing learning rate as 0.05 and no of layers as 5 we got 0.89\n",
        "!python closeness.py --g GRP"
      ]
    },
    {
      "cell_type": "code",
      "execution_count": null,
      "metadata": {
        "colab": {
          "base_uri": "https://localhost:8080/"
        },
        "id": "bSBrMc8v9jlJ",
        "outputId": "64730dbf-d197-455f-ae50-06c3c38d8aea"
      },
      "outputs": [
        {
          "name": "stdout",
          "output_type": "stream",
          "text": [
            "/content/GNN_Ranking\n",
            "SF\n",
            "Scale-free graphs selected.\n",
            "Loading data...\n",
            "Graphs to adjacency conversion.\n",
            "/content/GNN_Ranking/utils.py:87: UserWarning: torch.sparse.SparseTensor(indices, values, shape, *, device=) is deprecated.  Please use torch.sparse_coo_tensor(indices, values, shape, dtype=, device=). (Triggered internally at ../torch/csrc/utils/tensor_new.cpp:621.)\n",
            "  return torch.sparse.FloatTensor(indices, values, shape)\n",
            "Traceback (most recent call last):\n",
            "  File \"/content/GNN_Ranking/betweenness.py\", line 45, in <module>\n",
            "  File \"/content/GNN_Ranking/utils.py\", line 108, in graph_to_adj_bet\n",
            "    graph.add_edges_from(edges)\n",
            "  File \"/usr/local/lib/python3.10/dist-packages/networkx/classes/multigraph.py\", line 617, in add_edges_from\n",
            "    key = self.add_edge(u, v, key)\n",
            "  File \"/usr/local/lib/python3.10/dist-packages/networkx/classes/multidigraph.py\", line 511, in add_edge\n",
            "    nx._clear_cache(self)\n",
            "  File \"/usr/local/lib/python3.10/dist-packages/networkx/utils/misc.py\", line 595, in _clear_cache\n",
            "    def _clear_cache(G):\n",
            "KeyboardInterrupt\n",
            "^C\n"
          ]
        }
      ],
      "source": [
        "%cd \"/content/GNN_Ranking\"\n",
        "# with learning rate and 5 no of layers\n",
        "# with 5 no of layers 0.24\n",
        "!python betweenness.py --g SF"
      ]
    },
    {
      "cell_type": "code",
      "execution_count": null,
      "metadata": {
        "colab": {
          "base_uri": "https://localhost:8080/"
        },
        "id": "eEVceL2VAyja",
        "outputId": "a976892d-a218-4ac5-e89b-48527c696332"
      },
      "outputs": [
        {
          "output_type": "stream",
          "name": "stdout",
          "text": [
            "SF\n",
            "Scale-free graphs selected.\n",
            "Loading data...\n",
            "Graphs to adjacency conversion.\n",
            "/content/GNN_Ranking/utils.py:87: UserWarning: torch.sparse.SparseTensor(indices, values, shape, *, device=) is deprecated.  Please use torch.sparse_coo_tensor(indices, values, shape, dtype=, device=). (Triggered internally at ../torch/csrc/utils/tensor_new.cpp:621.)\n",
            "  return torch.sparse.FloatTensor(indices, values, shape)\n",
            "\n",
            "Processing graphs: 10/10\n",
            "Training\n",
            "Number of epoches: 15\n",
            "Epoch number: 1/15\n",
            "    Average KT score on test graphs is: 0.8203217011752585 and std: 0.02324945815806504\n",
            "Epoch number: 2/15\n",
            "    Average KT score on test graphs is: 0.8426795699172006 and std: 0.0234040325360175\n",
            "Epoch number: 3/15\n",
            "    Average KT score on test graphs is: 0.8561961619160865 and std: 0.026786547883257496\n",
            "Epoch number: 4/15\n",
            "    Average KT score on test graphs is: 0.8682347994023715 and std: 0.025889849014523694\n",
            "Epoch number: 5/15\n",
            "    Average KT score on test graphs is: 0.8660604736872595 and std: 0.02725807392210839\n",
            "Epoch number: 6/15\n",
            "    Average KT score on test graphs is: 0.8649590589906649 and std: 0.02933231265866902\n",
            "Epoch number: 7/15\n",
            "    Average KT score on test graphs is: 0.8708545421508311 and std: 0.027486500037643777\n",
            "Epoch number: 8/15\n",
            "    Average KT score on test graphs is: 0.8735611074252143 and std: 0.025260525380463354\n",
            "Epoch number: 9/15\n",
            "    Average KT score on test graphs is: 0.873924390250375 and std: 0.024124811303189372\n",
            "Epoch number: 10/15\n",
            "    Average KT score on test graphs is: 0.8720008662395564 and std: 0.023951750472192637\n",
            "Epoch number: 11/15\n",
            "    Average KT score on test graphs is: 0.8717843898569146 and std: 0.022449493662653218\n",
            "Epoch number: 12/15\n",
            "    Average KT score on test graphs is: 0.8780839436277372 and std: 0.022364319492631225\n",
            "Epoch number: 13/15\n",
            "    Average KT score on test graphs is: 0.8775654374120162 and std: 0.02563780100101146\n",
            "Epoch number: 14/15\n",
            "    Average KT score on test graphs is: 0.8808541627411678 and std: 0.024982005070972053\n",
            "Epoch number: 15/15\n",
            "    Average KT score on test graphs is: 0.8840324953774857 and std: 0.02340357092003862\n"
          ]
        }
      ],
      "source": [
        "# by changing the learning rate as 0.05 and no of layers as 5\n",
        "# by changing the no of layers 5 we got 0.88\n",
        "!python closeness.py --g SF"
      ]
    },
    {
      "cell_type": "code",
      "execution_count": null,
      "metadata": {
        "colab": {
          "base_uri": "https://localhost:8080/"
        },
        "id": "lHOeHznz9jxi",
        "outputId": "159e6635-1d68-497e-b2f9-78b94c3cbf4a"
      },
      "outputs": [
        {
          "output_type": "stream",
          "name": "stdout",
          "text": [
            "ER\n",
            "Erdos-Renyi random graphs selected.\n",
            "Loading data...\n",
            "Graphs to adjacency conversion.\n",
            "/content/GNN_Ranking/utils.py:87: UserWarning: torch.sparse.SparseTensor(indices, values, shape, *, device=) is deprecated.  Please use torch.sparse_coo_tensor(indices, values, shape, dtype=, device=). (Triggered internally at ../torch/csrc/utils/tensor_new.cpp:621.)\n",
            "  return torch.sparse.FloatTensor(indices, values, shape)\n",
            "\n",
            "\n",
            "Training\n",
            "Total Number of epoches: 25\n",
            "Epoch number: 1/25\n",
            "   Average KT score on test graphs is: 0.7561890738842936 and std: 0.028870953502994602\n",
            "Epoch number: 2/25\n",
            "   Average KT score on test graphs is: 0.8109007838203126 and std: 0.03949150337272039\n",
            "Epoch number: 3/25\n",
            "   Average KT score on test graphs is: 0.7973843134829212 and std: 0.031590164959103155\n",
            "Epoch number: 4/25\n",
            "   Average KT score on test graphs is: 0.8202164532994294 and std: 0.03247368474615733\n",
            "Epoch number: 5/25\n",
            "   Average KT score on test graphs is: 0.791128349455543 and std: 0.04121923554432042\n",
            "Epoch number: 6/25\n",
            "   Average KT score on test graphs is: 0.7557255273995922 and std: 0.06010896051771439\n",
            "Epoch number: 7/25\n",
            "   Average KT score on test graphs is: 0.783686967921759 and std: 0.05064295856955771\n",
            "Epoch number: 8/25\n",
            "   Average KT score on test graphs is: 0.8030085951186685 and std: 0.03348380341187296\n",
            "Epoch number: 9/25\n",
            "   Average KT score on test graphs is: 0.8070913469247616 and std: 0.052017501047335254\n",
            "Epoch number: 10/25\n",
            "   Average KT score on test graphs is: 0.7876184120205043 and std: 0.03307120336055683\n",
            "Epoch number: 11/25\n",
            "   Average KT score on test graphs is: 0.8185776728617743 and std: 0.06337156802269084\n",
            "Epoch number: 12/25\n",
            "   Average KT score on test graphs is: 0.8149405483175899 and std: 0.05276611876122025\n",
            "Epoch number: 13/25\n",
            "   Average KT score on test graphs is: 0.8150593040085872 and std: 0.058351421173372206\n",
            "Epoch number: 14/25\n",
            "   Average KT score on test graphs is: 0.8079204396006808 and std: 0.04708748337746511\n",
            "Epoch number: 15/25\n",
            "   Average KT score on test graphs is: 0.794711632064723 and std: 0.06120564258176377\n",
            "Epoch number: 16/25\n",
            "   Average KT score on test graphs is: 0.8246114713424895 and std: 0.04567222313896078\n",
            "Epoch number: 17/25\n",
            "   Average KT score on test graphs is: 0.8241694162967429 and std: 0.05037757376023632\n",
            "Epoch number: 18/25\n",
            "   Average KT score on test graphs is: 0.8205160735074782 and std: 0.047731442578634084\n",
            "Epoch number: 19/25\n",
            "   Average KT score on test graphs is: 0.8180222894806688 and std: 0.05107782216276263\n",
            "Epoch number: 20/25\n",
            "   Average KT score on test graphs is: 0.8104692205009283 and std: 0.050084731553799215\n",
            "Epoch number: 21/25\n",
            "   Average KT score on test graphs is: 0.8118267303295588 and std: 0.04895452223726826\n",
            "Epoch number: 22/25\n",
            "   Average KT score on test graphs is: 0.8219768518242407 and std: 0.051848201032844966\n",
            "Epoch number: 23/25\n",
            "   Average KT score on test graphs is: 0.8270467317287176 and std: 0.0543575951354203\n",
            "Epoch number: 24/25\n",
            "   Average KT score on test graphs is: 0.7982178461293457 and std: 0.04680441583771877\n",
            "Epoch number: 25/25\n",
            "   Average KT score on test graphs is: 0.8172770857871248 and std: 0.058026317849705196\n"
          ]
        }
      ],
      "source": [
        "# aftefr changing the learning rate to 0.05 and and no of layers as 4 we got 0.8d4\n",
        "#\n",
        "!python betweenness.py --g ER"
      ]
    },
    {
      "cell_type": "code",
      "execution_count": null,
      "metadata": {
        "colab": {
          "base_uri": "https://localhost:8080/"
        },
        "id": "QIee8r_t9j9t",
        "outputId": "636690bd-17dc-4e8e-adbd-5a9999beb79d"
      },
      "outputs": [
        {
          "name": "stdout",
          "output_type": "stream",
          "text": [
            "/content/GNN_Ranking\n",
            "SF\n",
            "Scale-free graphs selected.\n",
            "Loading data...\n",
            "Graphs to adjacency conversion.\n",
            "/content/GNN_Ranking/utils.py:87: UserWarning: torch.sparse.SparseTensor(indices, values, shape, *, device=) is deprecated.  Please use torch.sparse_coo_tensor(indices, values, shape, dtype=, device=). (Triggered internally at ../torch/csrc/utils/tensor_new.cpp:621.)\n",
            "  return torch.sparse.FloatTensor(indices, values, shape)\n",
            "Processing graphs: 240/240\n",
            "\n",
            "Training\n",
            "Total Number of epoches: 15\n",
            "Epoch number: 1/15\n",
            "Traceback (most recent call last):\n",
            "  File \"/content/GNN_Ranking/betweenness.py\", line 114, in <module>\n",
            "    train(list_adj_train,list_adj_t_train,list_num_node_train,bc_mat_train)\n",
            "  File \"/content/GNN_Ranking/betweenness.py\", line 64, in train\n",
            "    y_out = model(adj,adj_t)\n",
            "  File \"/usr/local/lib/python3.10/dist-packages/torch/nn/modules/module.py\", line 1532, in _wrapped_call_impl\n",
            "    return self._call_impl(*args, **kwargs)\n",
            "  File \"/usr/local/lib/python3.10/dist-packages/torch/nn/modules/module.py\", line 1541, in _call_impl\n",
            "    return forward_call(*args, **kwargs)\n",
            "  File \"/content/GNN_Ranking/model_bet.py\", line 48, in forward\n",
            "    x_6 = F.relu(self.gc6(x_5,adj1))\n",
            "  File \"/usr/local/lib/python3.10/dist-packages/torch/nn/modules/module.py\", line 1709, in __getattr__\n",
            "    raise AttributeError(f\"'{type(self).__name__}' object has no attribute '{name}'\")\n",
            "AttributeError: 'GNN_Bet' object has no attribute 'gc6'. Did you mean: 'gc1'?\n"
          ]
        }
      ],
      "source": [
        "%cd \"/content/GNN_Ranking\"\n",
        "!python betweenness.py --g SF"
      ]
    },
    {
      "cell_type": "code",
      "execution_count": null,
      "metadata": {
        "id": "odtVRtsQGFsT"
      },
      "outputs": [],
      "source": []
    }
  ],
  "metadata": {
    "accelerator": "GPU",
    "colab": {
      "gpuType": "T4",
      "provenance": []
    },
    "kernelspec": {
      "display_name": "Python 3",
      "name": "python3"
    },
    "language_info": {
      "name": "python"
    }
  },
  "nbformat": 4,
  "nbformat_minor": 0
}